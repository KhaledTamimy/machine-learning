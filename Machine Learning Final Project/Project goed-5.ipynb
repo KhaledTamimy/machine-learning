{
 "cells": [
  {
   "cell_type": "code",
   "execution_count": 1,
   "metadata": {
    "collapsed": false
   },
   "outputs": [
    {
     "name": "stderr",
     "output_type": "stream",
     "text": [
      "/Users/Berend/anaconda/lib/python2.7/site-packages/sklearn/cross_validation.py:44: DeprecationWarning: This module was deprecated in version 0.18 in favor of the model_selection module into which all the refactored classes and functions are moved. Also note that the interface of the new CV iterators are different from that of this module. This module will be removed in 0.20.\n",
      "  \"This module will be removed in 0.20.\", DeprecationWarning)\n"
     ]
    }
   ],
   "source": [
    "from __future__ import division\n",
    "import pandas as pd\n",
    "from sklearn.feature_extraction.text import CountVectorizer\n",
    "from sklearn.neighbors import KNeighborsClassifier\n",
    "#from sklearn.neural_network import MLPClassifier\n",
    "from sklearn.linear_model import LogisticRegression\n",
    "import numpy as np\n",
    "from sklearn.metrics import accuracy_score, roc_curve, auc\n",
    "from nltk.stem.porter import PorterStemmer\n",
    "from os import path\n",
    "from wordcloud import WordCloud\n",
    "from wordcloud import STOPWORDS\n",
    "from sklearn.cross_validation import train_test_split\n",
    "import re\n",
    "import matplotlib.pyplot as plt\n",
    "from nltk.corpus import stopwords\n",
    "#matplotlib.rcParams[\"figure.figsize\"] = \"8, 8\""
   ]
  },
  {
   "cell_type": "markdown",
   "metadata": {},
   "source": [
    "# Data preprocessing"
   ]
  },
  {
   "cell_type": "code",
   "execution_count": 2,
   "metadata": {
    "collapsed": false
   },
   "outputs": [],
   "source": [
    "data = pd.read_csv('./stocknews/Combined_News_DJIA.csv')\n",
    "train = data[data['Date'] < '2015-01-01']\n",
    "test = data[data['Date'] > '2014-12-31']"
   ]
  },
  {
   "cell_type": "code",
   "execution_count": 3,
   "metadata": {
    "collapsed": false
   },
   "outputs": [
    {
     "name": "stdout",
     "output_type": "stream",
     "text": [
      "The minimum range for the n-gram is 2 and the maximum range is 2\n",
      "The shape of the train term-document matrix is (1611, 357779)\n",
      "The shape of the test term-document matrix is (378, 357779)\n"
     ]
    }
   ],
   "source": [
    "\n",
    "#Training set \n",
    "\n",
    "#nested dictionary 1611 dictionaries (days) with all the headlines as 1 string\n",
    "trainlist = []\n",
    "for row in range(0,len(train.index)):\n",
    "     trainlist.append(' '.join(str(x) for x in train.iloc[row,2:27])) #from column 2 to 27 because column 0 is the date\n",
    "     # and column 1 is the label '0' or '1'\n",
    "#Remove all digits\n",
    "for day in range(len(trainlist)):\n",
    "    trainlist[day] = ''.join([i for i in trainlist[day] if not i.isdigit()])\n",
    "\n",
    "#choose range for n-gram\n",
    "minrange = 2\n",
    "maxrange = 2\n",
    "print 'The minimum range for the n-gram is', minrange, 'and the maximum range is', maxrange\n",
    "\n",
    "#define the CountVectorizer function\n",
    "vectorizer = CountVectorizer(ngram_range=(minrange, maxrange))\n",
    "#make the document-term matrix training headlines\n",
    "trainvec = vectorizer.fit_transform(trainlist)\n",
    "print 'The shape of the train term-document matrix is', trainvec.shape\n",
    "\n",
    "#Test set\n",
    "\n",
    "testheadlines = []\n",
    "for row in range(0,len(test.index)):\n",
    "    testheadlines.append(' '.join(str(x) for x in test.iloc[row,2:27]))\n",
    "\n",
    "for day in range(len(testheadlines)):\n",
    "    testheadlines[day] = ''.join([i for i in testheadlines[day] if not i.isdigit()])\n",
    "\n",
    "#make the document-term matrix for test headlines\n",
    "testvec = vectorizer.transform(testheadlines)\n",
    "\n",
    "print 'The shape of the test term-document matrix is', testvec.shape"
   ]
  },
  {
   "cell_type": "markdown",
   "metadata": {},
   "source": [
    "# Logistic Regression"
   ]
  },
  {
   "cell_type": "code",
   "execution_count": null,
   "metadata": {
    "collapsed": false,
    "scrolled": true
   },
   "outputs": [
    {
     "name": "stdout",
     "output_type": "stream",
     "text": [
      "The accuracy of logistic regression is  0.57671957672\n"
     ]
    }
   ],
   "source": [
    "#Define the logistic regression function\n",
    "model_LR = LogisticRegression()\n",
    "model_LR = model_LR.fit(trainvec, train[\"Label\"])\n",
    "\n",
    "predictions_LR = model_LR.predict(testvec)\n",
    "\n",
    "accuracy_LR = accuracy_score(test[\"Label\"], predictions_LR)\n",
    "print 'The accuracy of logistic regression is ',accuracy_LR\n",
    "\n",
    "fpr, tpr, tresholds = roc_curve(test[\"Label\"], predictions_LR)\n",
    "tmp = pd.DataFrame(dict(fpr=fpr, tpr=tpr))\n",
    "roc_auc = auc(fpr, tpr)\n",
    "\n",
    "plt.title('Receiver Operating Characteristic')\n",
    "plt.plot(fpr, tpr, 'b', label = 'AUC = %0.2f' % roc_auc)\n",
    "plt.legend(loc = 'lower right')\n",
    "plt.plot([0, 1], [0, 1],'r--')\n",
    "plt.xlim([0, 1])\n",
    "plt.ylim([0, 1])\n",
    "plt.ylabel('True Positive Rate')\n",
    "plt.xlabel('False Positive Rate')\n",
    "plt.show()"
   ]
  },
  {
   "cell_type": "markdown",
   "metadata": {},
   "source": [
    "# kNN"
   ]
  },
  {
   "cell_type": "code",
   "execution_count": null,
   "metadata": {
    "collapsed": false
   },
   "outputs": [],
   "source": [
    "#ngram 2,3 k 97, acc 55,5\n",
    "#ngram 2,2 k 210, acc 55,0\n",
    "#ngram 1,1 k 87, acc 54,5\n",
    "#ngram 1,3 k 7, acc 54,49\n",
    "\n",
    "#stopwords, ngram 1,1, k=28, acc 56,9"
   ]
  },
  {
   "cell_type": "code",
   "execution_count": null,
   "metadata": {
    "collapsed": false
   },
   "outputs": [
    {
     "name": "stdout",
     "output_type": "stream",
     "text": [
      "The plot of accuracy vs iterations gives:\n"
     ]
    }
   ],
   "source": [
    "#nested dictionary 1611 dictionaries (days) with all the headlines as 1 string\n",
    "accuracy_knn_list = []\n",
    "k_counter = []\n",
    "accuracy_knn_fin = 0\n",
    "for neighbors in range(1,500):\n",
    "    model_knn = KNeighborsClassifier(neighbors)\n",
    "    model_knn = model_knn.fit(trainvec, train[\"Label\"])\n",
    "\n",
    "    predictions_knn = model_knn.predict(testvec)\n",
    "    accuracy_knn = accuracy_score(test[\"Label\"], predictions_knn)\n",
    "    accuracy_knn_list = np.append(accuracy_knn_list, accuracy_knn)\n",
    "    k_counter = np.append(k_counter, neighbors)\n",
    "    if accuracy_knn > accuracy_knn_fin:\n",
    "        accuracy_knn_fin = accuracy_knn\n",
    "        best_k = neighbors\n",
    "\n",
    "print 'The plot of accuracy vs iterations gives:'\n",
    "plt.plot(k_counter, accuracy_knn_list)\n",
    "plt.ylabel('Accuracy')\n",
    "plt.xlabel('K-value')\n",
    "#plt.axis([0, iterations, 70, 100])\n",
    "plt.show()\n",
    "\n",
    "print 'The highest accuracy of kNN with k =', best_k, 'is', accuracy_knn_fin\n",
    "\n",
    "\n",
    "# code for finding k is above, this code is used to plot the roc curve\n",
    "model_knn2 = KNeighborsClassifier(215)\n",
    "model_knn2 = model_knn2.fit(trainvec, train[\"Label\"])\n",
    "\n",
    "predictions_knn2 = model_knn2.predict(advancedtest)\n",
    "\n",
    "accuracy_knn2 = accuracy_score(test[\"Label\"], predictions_knn2)\n",
    "print accuracy_knn2\n",
    "fpr, tpr, tresholds = roc_curve(test[\"Label\"], predictions_knn2)\n",
    "roc_auc = auc(fpr, tpr)\n",
    "\n",
    "plt.title('Receiver Operating Characteristic')\n",
    "plt.plot(fpr, tpr, 'b', label = 'AUC = %0.2f' % roc_auc)\n",
    "plt.legend(loc = 'lower right')\n",
    "plt.plot([0, 1], [0, 1],'r--')\n",
    "plt.xlim([0, 1])\n",
    "plt.ylim([0, 1])\n",
    "plt.ylabel('True Positive Rate')\n",
    "plt.xlabel('False Positive Rate')\n",
    "plt.show()"
   ]
  },
  {
   "cell_type": "code",
   "execution_count": null,
   "metadata": {
    "collapsed": false
   },
   "outputs": [],
   "source": []
  },
  {
   "cell_type": "code",
   "execution_count": null,
   "metadata": {
    "collapsed": false,
    "scrolled": true
   },
   "outputs": [],
   "source": [
    "#Wordcloud\n",
    "#Seperate the data based on their labels\n",
    "data2['Combined']=data.iloc[:,2:27].apply(lambda row: ''.join(str(row.values)), axis=1)\n",
    "non_decrease = train[train['Label']==1]\n",
    "decrease = train[train['Label']==0]\n",
    "\n",
    "#make a list for both classes\n",
    "nondecreaselist = []\n",
    "for row in range(0,len(non_decrease.index)):\n",
    "    nondecreaselist.append(' '.join(str(x) for x in non_decrease.iloc[row,2:27]))\n",
    "nondecreasestring = '. ' .join(nondecreaselist)\n",
    "\n",
    "decreaselist = []\n",
    "for row in range(0,len(decrease.index)):\n",
    "    decreaselist.append(' '.join(str(x) for x in decrease.iloc[row,2:27]))\n",
    "decreasestring = '. ' .join(decreaselist)\n",
    "\n",
    "#make wordclouds\n",
    "wordcloud1 = WordCloud(background_color='black',\n",
    "                      width=3000,\n",
    "                      height=2500\n",
    "                     ).generate(nondecreasestring)\n",
    "\n",
    "plt.figure(1,figsize=(8,8))\n",
    "plt.imshow(wordcloud1)\n",
    "plt.axis('off')\n",
    "plt.show()"
   ]
  },
  {
   "cell_type": "code",
   "execution_count": null,
   "metadata": {
    "collapsed": false
   },
   "outputs": [],
   "source": [
    "#make the second wordcloud\n",
    "wordcloud2 = WordCloud(background_color='white',\n",
    "                      width=3000,\n",
    "                      height=2500\n",
    "                     ).generate(decreasestring)\n",
    "\n",
    "plt.figure(1,figsize=(8,8))\n",
    "plt.imshow(wordcloud2)\n",
    "plt.axis('off')\n",
    "plt.show()"
   ]
  },
  {
   "cell_type": "code",
   "execution_count": null,
   "metadata": {
    "collapsed": false
   },
   "outputs": [],
   "source": [
    "#For the coefficients of the words\n",
    "wordsLR = advancedvectorizer.get_feature_names()\n",
    "coeffLR = advancedmodel_LR.coef_.tolist()[0]\n",
    "coeffdf = pd.DataFrame({'Words' : wordsLR, \n",
    "                        'Coefficient' : coeffLR})\n",
    "coeffdf = coeffdf.sort_values(['Coefficient', 'Words'], ascending=[0, 1])\n",
    "coeffdf.head(10)"
   ]
  },
  {
   "cell_type": "code",
   "execution_count": null,
   "metadata": {
    "collapsed": false
   },
   "outputs": [],
   "source": [
    "coeffdf.tail(10)"
   ]
  },
  {
   "cell_type": "raw",
   "metadata": {
    "collapsed": true
   },
   "source": [
    "data.head()"
   ]
  },
  {
   "cell_type": "code",
   "execution_count": null,
   "metadata": {
    "collapsed": true
   },
   "outputs": [],
   "source": []
  }
 ],
 "metadata": {
  "anaconda-cloud": {},
  "kernelspec": {
   "display_name": "Python [Root]",
   "language": "python",
   "name": "Python [Root]"
  },
  "language_info": {
   "codemirror_mode": {
    "name": "ipython",
    "version": 2
   },
   "file_extension": ".py",
   "mimetype": "text/x-python",
   "name": "python",
   "nbconvert_exporter": "python",
   "pygments_lexer": "ipython2",
   "version": "2.7.12"
  }
 },
 "nbformat": 4,
 "nbformat_minor": 0
}
